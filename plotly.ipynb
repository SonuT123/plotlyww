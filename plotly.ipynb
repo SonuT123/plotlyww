{
 "cells": [
  {
   "cell_type": "raw",
   "id": "27b7aecf-8e3d-4b66-ad00-ea4fe3b865ab",
   "metadata": {},
   "source": [
    "                                          Assignment plotly"
   ]
  },
  {
   "cell_type": "raw",
   "id": "a542d357-3a91-4dec-9fbe-2f3e5c7d49f9",
   "metadata": {},
   "source": [
    "Q1. Load the \"titanic\" dataset using the load_dataset function of seaborn. Use Plotly express to plot a\n",
    "    scatter plot for age and fare columns in the titanic dataset."
   ]
  },
  {
   "cell_type": "code",
   "execution_count": 18,
   "id": "bdf04fd5-2b81-443c-aa26-6541c161decc",
   "metadata": {},
   "outputs": [
    {
     "ename": "ModuleNotFoundError",
     "evalue": "No module named 'plotly'",
     "output_type": "error",
     "traceback": [
      "\u001b[0;31m---------------------------------------------------------------------------\u001b[0m",
      "\u001b[0;31mModuleNotFoundError\u001b[0m                       Traceback (most recent call last)",
      "Cell \u001b[0;32mIn[18], line 2\u001b[0m\n\u001b[1;32m      1\u001b[0m \u001b[38;5;28;01mimport\u001b[39;00m \u001b[38;5;21;01mseaborn\u001b[39;00m \u001b[38;5;28;01mas\u001b[39;00m \u001b[38;5;21;01msns\u001b[39;00m\n\u001b[0;32m----> 2\u001b[0m \u001b[38;5;28;01mimport\u001b[39;00m \u001b[38;5;21;01mplotly\u001b[39;00m\u001b[38;5;21;01m.\u001b[39;00m\u001b[38;5;21;01mexpress\u001b[39;00m \u001b[38;5;28;01mas\u001b[39;00m \u001b[38;5;21;01mpx\u001b[39;00m\n\u001b[1;32m      4\u001b[0m titanic_data \u001b[38;5;241m=\u001b[39m sns\u001b[38;5;241m.\u001b[39mload_dataset(\u001b[38;5;124m\"\u001b[39m\u001b[38;5;124mtitanic\u001b[39m\u001b[38;5;124m\"\u001b[39m)\n\u001b[1;32m      6\u001b[0m scatter_plot \u001b[38;5;241m=\u001b[39m px\u001b[38;5;241m.\u001b[39mscatter(titanic_data, x\u001b[38;5;241m=\u001b[39m\u001b[38;5;124m'\u001b[39m\u001b[38;5;124mage\u001b[39m\u001b[38;5;124m'\u001b[39m, y\u001b[38;5;241m=\u001b[39m\u001b[38;5;124m'\u001b[39m\u001b[38;5;124mfare\u001b[39m\u001b[38;5;124m'\u001b[39m, title\u001b[38;5;241m=\u001b[39m\u001b[38;5;124m'\u001b[39m\u001b[38;5;124mScatter Plot of Age vs Fare\u001b[39m\u001b[38;5;124m'\u001b[39m)\n",
      "\u001b[0;31mModuleNotFoundError\u001b[0m: No module named 'plotly'"
     ]
    }
   ],
   "source": [
    "import seaborn as sns\n",
    "import plotly.express as px\n",
    "\n",
    "titanic_data = sns.load_dataset(\"titanic\")\n",
    "\n",
    "scatter_plot = px.scatter(titanic_data, x='age', y='fare', title='Scatter Plot of Age vs Fare')\n",
    "scatter_plot.show()"
   ]
  },
  {
   "cell_type": "raw",
   "id": "041e3f89-190e-472a-b211-8bbcefc3fa2e",
   "metadata": {},
   "source": [
    "Q2. Using the tips dataset in the Plotly library, plot a box plot using Plotly express."
   ]
  },
  {
   "cell_type": "code",
   "execution_count": 13,
   "id": "c7a979e0-78b1-488d-b171-81d0bb16c8df",
   "metadata": {},
   "outputs": [
    {
     "ename": "ModuleNotFoundError",
     "evalue": "No module named 'plotly'",
     "output_type": "error",
     "traceback": [
      "\u001b[0;31m---------------------------------------------------------------------------\u001b[0m",
      "\u001b[0;31mModuleNotFoundError\u001b[0m                       Traceback (most recent call last)",
      "Cell \u001b[0;32mIn[13], line 1\u001b[0m\n\u001b[0;32m----> 1\u001b[0m \u001b[38;5;28;01mimport\u001b[39;00m \u001b[38;5;21;01mplotly\u001b[39;00m\u001b[38;5;21;01m.\u001b[39;00m\u001b[38;5;21;01mexpress\u001b[39;00m \u001b[38;5;28;01mas\u001b[39;00m \u001b[38;5;21;01mpx\u001b[39;00m\n\u001b[1;32m      3\u001b[0m tips_data \u001b[38;5;241m=\u001b[39m px\u001b[38;5;241m.\u001b[39mdata\u001b[38;5;241m.\u001b[39mtips\n\u001b[1;32m      5\u001b[0m box_plot \u001b[38;5;241m=\u001b[39m px\u001b[38;5;241m.\u001b[39mbox(tips_data, x\u001b[38;5;241m=\u001b[39m\u001b[38;5;124m'\u001b[39m\u001b[38;5;124mday\u001b[39m\u001b[38;5;124m'\u001b[39m, y\u001b[38;5;241m=\u001b[39m\u001b[38;5;124m'\u001b[39m\u001b[38;5;124mtotal_bill\u001b[39m\u001b[38;5;124m'\u001b[39m, title\u001b[38;5;241m=\u001b[39m\u001b[38;5;124m'\u001b[39m\u001b[38;5;124mBox Plot of Total Bill by Day\u001b[39m\u001b[38;5;124m'\u001b[39m)\n",
      "\u001b[0;31mModuleNotFoundError\u001b[0m: No module named 'plotly'"
     ]
    }
   ],
   "source": [
    "import plotly.express as px\n",
    "\n",
    "tips_data = px.data.tips\n",
    "\n",
    "box_plot = px.box(tips_data, x='day', y='total_bill', title='Box Plot of Total Bill by Day')\n",
    "box_plot.show()"
   ]
  },
  {
   "cell_type": "raw",
   "id": "b9b6aebf-937f-45bd-bc12-99fe9214ba12",
   "metadata": {},
   "source": [
    "Q3. Using the tips dataset in the Plotly library, Plot a histogram for x= \"sex\" and y=\"total_bill\" column in\n",
    "    the tips dataset. Also, use the \"smoker\" column with the pattern_shape parameter and the \"day\"\n",
    "    column with the color parameter."
   ]
  },
  {
   "cell_type": "code",
   "execution_count": 15,
   "id": "e52ff44a-1330-40a1-8109-7025275659d7",
   "metadata": {},
   "outputs": [
    {
     "ename": "ModuleNotFoundError",
     "evalue": "No module named 'plotly'",
     "output_type": "error",
     "traceback": [
      "\u001b[0;31m---------------------------------------------------------------------------\u001b[0m",
      "\u001b[0;31mModuleNotFoundError\u001b[0m                       Traceback (most recent call last)",
      "Cell \u001b[0;32mIn[15], line 1\u001b[0m\n\u001b[0;32m----> 1\u001b[0m \u001b[38;5;28;01mimport\u001b[39;00m \u001b[38;5;21;01mplotly\u001b[39;00m\u001b[38;5;21;01m.\u001b[39;00m\u001b[38;5;21;01mgraph_objects\u001b[39;00m \u001b[38;5;28;01mas\u001b[39;00m \u001b[38;5;21;01mgo\u001b[39;00m\n\u001b[1;32m      2\u001b[0m \u001b[38;5;28;01mimport\u001b[39;00m \u001b[38;5;21;01mplotly\u001b[39;00m\u001b[38;5;21;01m.\u001b[39;00m\u001b[38;5;21;01mexpress\u001b[39;00m \u001b[38;5;28;01mas\u001b[39;00m \u001b[38;5;21;01mpx\u001b[39;00m\n\u001b[1;32m      4\u001b[0m tips_data \u001b[38;5;241m=\u001b[39m px\u001b[38;5;241m.\u001b[39mdata\u001b[38;5;241m.\u001b[39mtips\n",
      "\u001b[0;31mModuleNotFoundError\u001b[0m: No module named 'plotly'"
     ]
    }
   ],
   "source": [
    "import plotly.graph_objects as go\n",
    "import plotly.express as px\n",
    "\n",
    "tips_data = px.data.tips\n",
    "\n",
    "histogram = go.Figure(\n",
    "    go.Histogram(\n",
    "        x=tips_data['sex'],\n",
    "        y=tips_data['total_bill'],\n",
    "        marker=dict(color=tips_data['day'], symbol=tips_data['smoker']),\n",
    "    )\n",
    ")\n",
    "\n",
    "histogram.update_layout(title='Histogram of Total Bill by Sex with Additional Parameters')\n",
    "histogram.show()"
   ]
  },
  {
   "cell_type": "raw",
   "id": "da9cf7b8-f07f-4727-9d68-b7c8617ed1fb",
   "metadata": {},
   "source": [
    "Q4. Using the iris dataset in the Plotly library, Plot a scatter matrix plot, using the \"species\" column for\n",
    "    the color parameter.\n",
    "    Note: Use \"sepal_length\", \"sepal_width\", \"petal_length\", \"petal_width\" columns only with the\n",
    "    dimensions parameter."
   ]
  },
  {
   "cell_type": "code",
   "execution_count": 22,
   "id": "c1c114ce-2379-4f78-bf2f-718e65617967",
   "metadata": {},
   "outputs": [
    {
     "ename": "ModuleNotFoundError",
     "evalue": "No module named 'plotly'",
     "output_type": "error",
     "traceback": [
      "\u001b[0;31m---------------------------------------------------------------------------\u001b[0m",
      "\u001b[0;31mModuleNotFoundError\u001b[0m                       Traceback (most recent call last)",
      "Cell \u001b[0;32mIn[22], line 1\u001b[0m\n\u001b[0;32m----> 1\u001b[0m \u001b[38;5;28;01mimport\u001b[39;00m \u001b[38;5;21;01mplotly\u001b[39;00m\u001b[38;5;21;01m.\u001b[39;00m\u001b[38;5;21;01mexpress\u001b[39;00m \u001b[38;5;28;01mas\u001b[39;00m \u001b[38;5;21;01mpx\u001b[39;00m\n\u001b[1;32m      2\u001b[0m \u001b[38;5;28;01mimport\u001b[39;00m \u001b[38;5;21;01mpandas\u001b[39;00m \u001b[38;5;28;01mas\u001b[39;00m \u001b[38;5;21;01mpd\u001b[39;00m\n\u001b[1;32m      4\u001b[0m \u001b[38;5;28;01mfrom\u001b[39;00m \u001b[38;5;21;01msklearn\u001b[39;00m\u001b[38;5;21;01m.\u001b[39;00m\u001b[38;5;21;01mdatasets\u001b[39;00m \u001b[38;5;28;01mimport\u001b[39;00m load_iris\n",
      "\u001b[0;31mModuleNotFoundError\u001b[0m: No module named 'plotly'"
     ]
    }
   ],
   "source": [
    "import plotly.express as px\n",
    "import pandas as pd\n",
    "\n",
    "from sklearn.datasets import load_iris\n",
    "iris_data = load_iris()\n",
    "iris_df = pd.DataFrame(data=iris_data.data, columns=iris_data.feature_names)\n",
    "iris_df['species'] = iris_data.target_names[iris_data.target]\n",
    "\n",
    "scatter_matrix = px.scatter_matrix(\n",
    "    iris_df,\n",
    "    dimensions=['sepal_length', 'sepal_width', 'petal_length', 'petal_width'],\n",
    "    color='species'\n",
    ")\n",
    "\n",
    "scatter_matrix.update_traces(diagonal_visible=False) \n",
    "scatter_matrix.update_layout(title='Scatter Matrix Plot of Iris Dataset')\n",
    "scatter_matrix.show()"
   ]
  },
  {
   "cell_type": "raw",
   "id": "8f3609ff-49a0-401e-a75e-92f18142f7a8",
   "metadata": {},
   "source": [
    "Q5. What is Distplot? Using Plotly express, plot a distplot."
   ]
  },
  {
   "cell_type": "code",
   "execution_count": null,
   "id": "9be4f3f2-4dc8-4811-9132-8f4ab2f9c75f",
   "metadata": {},
   "outputs": [],
   "source": []
  }
 ],
 "metadata": {
  "kernelspec": {
   "display_name": "Python 3 (ipykernel)",
   "language": "python",
   "name": "python3"
  },
  "language_info": {
   "codemirror_mode": {
    "name": "ipython",
    "version": 3
   },
   "file_extension": ".py",
   "mimetype": "text/x-python",
   "name": "python",
   "nbconvert_exporter": "python",
   "pygments_lexer": "ipython3",
   "version": "3.10.8"
  }
 },
 "nbformat": 4,
 "nbformat_minor": 5
}
